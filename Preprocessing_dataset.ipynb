{
 "cells": [
  {
   "cell_type": "code",
   "execution_count": null,
   "id": "f59a673d-7c14-4d31-884d-31a47c68ad8c",
   "metadata": {},
   "outputs": [
    {
     "name": "stdout",
     "output_type": "stream",
     "text": [
      "Dataset preparation complete!\n",
      "Training samples: 2358\n",
      "Validation samples: 262\n"
     ]
    }
   ],
   "source": [
    "import json\n",
    "import random\n",
    "from sklearn.model_selection import train_test_split\n",
    "\n",
    "# Load your dataset\n",
    "# Assuming your data is in a JSON file with the structure you described\n",
    "with open('Datasets/dataset_pastho_all2.json', 'r', encoding='utf-8') as f:\n",
    "    data = json.load(f)\n",
    "\n",
    "# Shuffle the data to ensure random distribution\n",
    "random.shuffle(data)\n",
    "\n",
    "# Split the data into train and validation sets (90% train, 10% validation)\n",
    "train_data, val_data = train_test_split(data, test_size=0.1, random_state=42)\n",
    "\n",
    "# Function to format examples for mT5\n",
    "def format_example(example, include_difficulty=True):\n",
    "    if include_difficulty:\n",
    "        # Include difficulty in the source\n",
    "        source = f\"generate {example['difficulty']} question: {example['context']} answer: {example['answer']}\"\n",
    "    else:\n",
    "        # Exclude difficulty\n",
    "        source = f\"generate question: {example['context']} answer: {example['answer']}\"\n",
    "    \n",
    "    target = example['question']\n",
    "    return source, target\n",
    "\n",
    "# Create train files\n",
    "with open('train.source', 'w', encoding='utf-8') as src_file, \\\n",
    "     open('train.target', 'w', encoding='utf-8') as tgt_file:\n",
    "    \n",
    "    for example in train_data:\n",
    "        source, target = format_example(example)\n",
    "        src_file.write(source + '\\n')\n",
    "        tgt_file.write(target + '\\n')\n",
    "\n",
    "# Create validation files\n",
    "with open('val.source', 'w', encoding='utf-8') as src_file, \\\n",
    "     open('val.target', 'w', encoding='utf-8') as tgt_file:\n",
    "    \n",
    "    for example in val_data:\n",
    "        source, target = format_example(example)\n",
    "        src_file.write(source + '\\n')\n",
    "        tgt_file.write(target + '\\n')\n",
    "\n",
    "print(f\"Dataset preparation complete!\")\n",
    "print(f\"Training samples: {len(train_data)}\")\n",
    "print(f\"Validation samples: {len(val_data)}\")"
   ]
  },
  {
   "cell_type": "code",
   "execution_count": null,
   "id": "1be1c676-dd03-4dc6-b481-df3c680920a6",
   "metadata": {},
   "outputs": [],
   "source": []
  }
 ],
 "metadata": {
  "kernelspec": {
   "display_name": "Python 3 (ipykernel)",
   "language": "python",
   "name": "python3"
  },
  "language_info": {
   "codemirror_mode": {
    "name": "ipython",
    "version": 3
   },
   "file_extension": ".py",
   "mimetype": "text/x-python",
   "name": "python",
   "nbconvert_exporter": "python",
   "pygments_lexer": "ipython3",
   "version": "3.12.7"
  }
 },
 "nbformat": 4,
 "nbformat_minor": 5
}
